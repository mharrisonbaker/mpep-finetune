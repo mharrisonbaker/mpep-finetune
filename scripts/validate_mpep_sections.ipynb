{
 "cells": [
  {
   "cell_type": "code",
   "execution_count": 1,
   "metadata": {},
   "outputs": [
    {
     "name": "stdout",
     "output_type": "stream",
     "text": [
      "All sections are covered in mpep_data.jsonl.\n",
      "All sections are covered. Log created.\n"
     ]
    }
   ],
   "source": [
    "import os\n",
    "import json\n",
    "import re\n",
    "\n",
    "# Paths\n",
    "input_dir = r\"D:\\Data\\mpep_finetune\"\n",
    "jsonl_file = r\"D:\\Data\\mpep_finetune\\mpep_data.jsonl\"\n",
    "\n",
    "# Step 1: Collect all section numbers from the .json filenames\n",
    "expected_sections = set()\n",
    "\n",
    "for root, dirs, files in os.walk(input_dir):\n",
    "    for file in files:\n",
    "        if file.startswith(\"s\") and file.endswith(\".json\"):\n",
    "            match = re.search(r\"s(\\d+)\\.json\", file)\n",
    "            if match:\n",
    "                expected_sections.add(match.group(1))  # Collect section number (e.g., '704')\n",
    "\n",
    "# Step 2: Extract sections mentioned in mpep_data.jsonl\n",
    "found_sections = set()\n",
    "\n",
    "with open(jsonl_file, \"r\", encoding=\"utf-8\") as f:\n",
    "    for line in f:\n",
    "        entry = json.loads(line)\n",
    "        instruction = entry[\"instruction\"]\n",
    "        match = re.search(r\"MPEP (\\d+)\", instruction)  # Find MPEP section number\n",
    "        if match:\n",
    "            found_sections.add(match.group(1))\n",
    "\n",
    "# Step 3: Compare and find missing sections\n",
    "missing_sections = expected_sections - found_sections\n",
    "\n",
    "# Step 4: Report missing sections\n",
    "if missing_sections:\n",
    "    print(\"Missing sections:\")\n",
    "    for section in sorted(missing_sections):\n",
    "        print(f\"MPEP {section}\")\n",
    "else:\n",
    "    print(\"All sections are covered in mpep_data.jsonl.\")\n",
    "\n",
    "\n",
    "\n",
    "log_file = r\"D:\\Data\\mpep_finetune\\missing_sections.log\"\n",
    "\n",
    "with open(log_file, \"w\", encoding=\"utf-8\") as log:\n",
    "    if missing_sections:\n",
    "        log.write(\"Missing sections:\\n\")\n",
    "        for section in sorted(missing_sections):\n",
    "            log.write(f\"MPEP {section}\\n\")\n",
    "        print(f\"Missing sections logged to {log_file}\")\n",
    "    else:\n",
    "        log.write(\"All sections are covered in mpep_data.jsonl.\\n\")\n",
    "        print(\"All sections are covered. Log created.\")\n"
   ]
  },
  {
   "cell_type": "code",
   "execution_count": null,
   "metadata": {},
   "outputs": [],
   "source": []
  }
 ],
 "metadata": {
  "kernelspec": {
   "display_name": "mpep-llama",
   "language": "python",
   "name": "python3"
  },
  "language_info": {
   "codemirror_mode": {
    "name": "ipython",
    "version": 3
   },
   "file_extension": ".py",
   "mimetype": "text/x-python",
   "name": "python",
   "nbconvert_exporter": "python",
   "pygments_lexer": "ipython3",
   "version": "3.8.20"
  }
 },
 "nbformat": 4,
 "nbformat_minor": 2
}
